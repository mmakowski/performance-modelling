{
 "cells": [
  {
   "cell_type": "markdown",
   "metadata": {
    "slideshow": {
     "slide_type": "slide"
    }
   },
   "source": [
    "Staging DataHub handles 200 queries per day. How long until it receives the next query request?"
   ]
  },
  {
   "cell_type": "code",
   "execution_count": 1,
   "metadata": {
    "slideshow": {
     "slide_type": "skip"
    }
   },
   "outputs": [],
   "source": [
    "import csv\n",
    "from datetime import datetime\n",
    "import seaborn as sns\n",
    "\n",
    "def parse_arrivals(csv_path, timestamp_col_idx, timestamp_format):\n",
    "    arrivals = []\n",
    "    with open(csv_path) as f:\n",
    "        csv_reader = csv.reader(f)\n",
    "        # skip header\n",
    "        next(csv_reader)\n",
    "        for row in csv_reader:\n",
    "            arrivals.append(datetime.strptime(row[timestamp_col_idx], timestamp_format))\n",
    "    arrivals = sorted(arrivals)\n",
    "    return arrivals\n",
    "\n",
    "def time_diffs(arrivals):\n",
    "    return [\n",
    "        (arrivals[i] - arrivals[i-1]).total_seconds()\n",
    "        for i in range(1, len(arrivals))\n",
    "    ]"
   ]
  },
  {
   "cell_type": "code",
   "execution_count": 2,
   "metadata": {
    "slideshow": {
     "slide_type": "slide"
    }
   },
   "outputs": [
    {
     "data": {
      "text/plain": [
       "<AxesSubplot:ylabel='Count'>"
      ]
     },
     "execution_count": 2,
     "metadata": {},
     "output_type": "execute_result"
    },
    {
     "data": {
      "image/png": "[encoded data removed]",
      "text/plain": [
       "<Figure size 432x288 with 1 Axes>"
      ]
     },
     "metadata": {
      "needs_background": "light"
     },
     "output_type": "display_data"
    }
   ],
   "source": [
    "fedsql_arrivals = fedsql_arrivals = parse_arrivals(\n",
    "    'data/datadog/extract-2022-03-14_16-53-83.csv',\n",
    "    timestamp_col_idx=0,\n",
    "    timestamp_format='%Y-%m-%dT%H:%M:%S.%fZ'\n",
    ")\n",
    "# the entries every 10 minutes are healthchecks, discard them\n",
    "fedsql_arrivals = [a for a in fedsql_arrivals if not (a.minute % 10 == 0 and a.second < 10)]\n",
    "fedsql_diffs = time_diffs(fedsql_arrivals)\n",
    "sns.histplot(fedsql_arrivals, bins=1000)"
   ]
  },
  {
   "cell_type": "code",
   "execution_count": 3,
   "metadata": {
    "slideshow": {
     "slide_type": "slide"
    }
   },
   "outputs": [
    {
     "data": {
      "text/plain": [
       "<AxesSubplot:ylabel='Count'>"
      ]
     },
     "execution_count": 3,
     "metadata": {},
     "output_type": "execute_result"
    },
    {
     "data": {
      "image/png": "[encoded data removed]",
      "text/plain": [
       "<Figure size 432x288 with 1 Axes>"
      ]
     },
     "metadata": {
      "needs_background": "light"
     },
     "output_type": "display_data"
    }
   ],
   "source": [
    "sns.histplot([d for d in fedsql_diffs if d < 100])"
   ]
  },
  {
   "cell_type": "markdown",
   "metadata": {
    "slideshow": {
     "slide_type": "slide"
    }
   },
   "source": [
    "Let's take a look at a more comprehensive dataset. We'll use a [health ecommerce website visits dataset from Kaggle](https://www.kaggle.com/datasets/rajeck/health-ecommerce-website-visits)"
   ]
  },
  {
   "cell_type": "code",
   "execution_count": 4,
   "metadata": {
    "slideshow": {
     "slide_type": "fragment"
    }
   },
   "outputs": [
    {
     "data": {
      "text/plain": [
       "<AxesSubplot:ylabel='Count'>"
      ]
     },
     "execution_count": 4,
     "metadata": {},
     "output_type": "execute_result"
    },
    {
     "data": {
      "image/png": "[encoded data removed]",
      "text/plain": [
       "<Figure size 432x288 with 1 Axes>"
      ]
     },
     "metadata": {
      "needs_background": "light"
     },
     "output_type": "display_data"
    }
   ],
   "source": [
    "ecommerce_arrivals = parse_arrivals(\n",
    "    'data/kaggle/health-ecommerce-website.csv',\n",
    "    timestamp_col_idx=0,\n",
    "    timestamp_format='%Y-%m-%d %H:%M'\n",
    ")\n",
    "ecommerce_diffs = time_diffs(ecommerce_arrivals)\n",
    "sns.histplot(ecommerce_arrivals, bins=1000)"
   ]
  },
  {
   "cell_type": "code",
   "execution_count": 5,
   "metadata": {
    "slideshow": {
     "slide_type": "slide"
    }
   },
   "outputs": [
    {
     "data": {
      "text/plain": [
       "<AxesSubplot:ylabel='Count'>"
      ]
     },
     "execution_count": 5,
     "metadata": {},
     "output_type": "execute_result"
    },
    {
     "data": {
      "image/png": "[encoded data removed]",
      "text/plain": [
       "<Figure size 432x288 with 1 Axes>"
      ]
     },
     "metadata": {
      "needs_background": "light"
     },
     "output_type": "display_data"
    }
   ],
   "source": [
    "sns.histplot(ecommerce_diffs)"
   ]
  },
  {
   "cell_type": "markdown",
   "metadata": {
    "slideshow": {
     "slide_type": "fragment"
    }
   },
   "source": [
    "This looks like an [exponential distribution](https://en.wikipedia.org/wiki/Exponential_distribution)!"
   ]
  },
  {
   "cell_type": "code",
   "execution_count": 6,
   "metadata": {
    "slideshow": {
     "slide_type": "slide"
    }
   },
   "outputs": [
    {
     "data": {
      "text/plain": [
       "0.00038463582815089707"
      ]
     },
     "execution_count": 6,
     "metadata": {},
     "output_type": "execute_result"
    }
   ],
   "source": [
    "# the rate, in arrivals/sec\n",
    "time_span = (ecommerce_arrivals[-1] - ecommerce_arrivals[0]).total_seconds()\n",
    "_lambda = len(ecommerce_arrivals) / time_span\n",
    "_lambda"
   ]
  },
  {
   "cell_type": "code",
   "execution_count": 7,
   "metadata": {
    "slideshow": {
     "slide_type": "skip"
    }
   },
   "outputs": [],
   "source": [
    "import numpy as np\n",
    "from scipy.stats import expon\n",
    "import matplotlib.pyplot as plt"
   ]
  },
  {
   "cell_type": "code",
   "execution_count": 8,
   "metadata": {
    "slideshow": {
     "slide_type": "slide"
    }
   },
   "outputs": [
    {
     "data": {
      "text/plain": [
       "[<matplotlib.lines.Line2D at 0x7f7256543910>]"
      ]
     },
     "execution_count": 8,
     "metadata": {},
     "output_type": "execute_result"
    },
    {
     "data": {
      "image/png": "[encoded data removed]",
      "text/plain": [
       "<Figure size 432x288 with 1 Axes>"
      ]
     },
     "metadata": {
      "needs_background": "light"
     },
     "output_type": "display_data"
    }
   ],
   "source": [
    "scale = 1/_lambda\n",
    "ax = sns.histplot(ecommerce_diffs)\n",
    "x = np.linspace(expon.ppf(0.01, scale=scale), expon.ppf(0.99, scale=scale), 100)\n",
    "ax.plot(x, expon.pdf(x, scale=scale)*750_000, 'r-') # not sure why *750_000 is needed to match the scale"
   ]
  },
  {
   "cell_type": "markdown",
   "metadata": {
    "slideshow": {
     "slide_type": "slide"
    }
   },
   "source": [
    "## Exponential Distribution\n",
    "\n",
    "Probability density function | Cumulative distribution function\n",
    ":--------------------------- | :-------------------------------\n",
    "![](Exponential_pdf.svg)     | ![](Exponential_cdf.svg)\n",
    "_[by Newystats - Own work, CC BY-SA 4.0](https://commons.wikimedia.org/w/index.php?curid=80359746)_ | _[by Skbkekas - Own work, CC BY 3.0]( https://commons.wikimedia.org/w/index.php?curid=9508326)_"
   ]
  },
  {
   "cell_type": "markdown",
   "metadata": {
    "slideshow": {
     "slide_type": "fragment"
    }
   },
   "source": [
    "If something happens $\\lambda = 1.5$ times a second, there is ~80% chance it will happen within one second."
   ]
  },
  {
   "cell_type": "markdown",
   "metadata": {
    "slideshow": {
     "slide_type": "slide"
    }
   },
   "source": [
    "$E[X] = \\frac{1}{\\lambda}$\n",
    "\n",
    "$\\lambda = \\frac{200}{8 \\times 60} = \\frac{5}{12}$ messages per minute\n",
    "\n",
    "$E[X] =$ 2.4 minutes = 2 minutes 24 seconds"
   ]
  },
  {
   "cell_type": "code",
   "execution_count": 9,
   "metadata": {
    "slideshow": {
     "slide_type": "fragment"
    }
   },
   "outputs": [
    {
     "data": {
      "text/plain": [
       "2.3999999999999995"
      ]
     },
     "execution_count": 9,
     "metadata": {},
     "output_type": "execute_result"
    }
   ],
   "source": [
    "from scipy.stats import expon\n",
    "_lambda = 200 / (8*60)\n",
    "expon.expect(scale = 1/_lambda)"
   ]
  },
  {
   "cell_type": "markdown",
   "metadata": {
    "slideshow": {
     "slide_type": "slide"
    }
   },
   "source": [
    "## Markov chains\n"
   ]
  },
  {
   "cell_type": "code",
   "execution_count": 29,
   "metadata": {
    "slideshow": {
     "slide_type": "skip"
    }
   },
   "outputs": [],
   "source": [
    "%%bash\n",
    "cat > tmp.dot <<EOF\n",
    "digraph G {\n",
    "  rankdir=\"LR\";\n",
    "  Sunny -> Sunny [label=\"0.9\"];\n",
    "  Sunny -> Rainy [label=\"0.1\"];\n",
    "  Rainy -> Rainy [label=\"0.5\"];\n",
    "  Rainy -> Sunny [label=\"0.5\"];\n",
    "}\n",
    "EOF"
   ]
  },
  {
   "cell_type": "code",
   "execution_count": 33,
   "metadata": {
    "slideshow": {
     "slide_type": "skip"
    }
   },
   "outputs": [],
   "source": [
    "from IPython.core.display import SVG\n",
    "\n",
    "def show_graph():\n",
    "    res = !dot -Tsvg tmp.dot\n",
    "    return SVG(\"\".join(res))"
   ]
  },
  {
   "cell_type": "code",
   "execution_count": 34,
   "metadata": {
    "slideshow": {
     "slide_type": "fragment"
    }
   },
   "outputs": [
    {
     "data": {
      "image/svg+xml": [
       "<svg xmlns=\"http://www.w3.org/2000/svg\" xmlns:xlink=\"http://www.w3.org/1999/xlink\" width=\"222pt\" height=\"79pt\" viewBox=\"0.00 0.00 221.69 79.21\"><g id=\"graph0\" class=\"graph\" transform=\"scale(1 1) rotate(0) translate(4 75.21)\"><title>G</title><polygon fill=\"white\" stroke=\"transparent\" points=\"-4,4 -4,-75.21 217.69,-75.21 217.69,4 -4,4\"/><!-- Sunny --><g id=\"node1\" class=\"node\"><title>Sunny</title><ellipse fill=\"none\" stroke=\"black\" cx=\"40.3\" cy=\"-20.21\" rx=\"40.09\" ry=\"18\"/><text text-anchor=\"middle\" x=\"40.3\" y=\"-16.51\" font-family=\"Times,serif\" font-size=\"14.00\">Sunny</text></g><!-- Sunny&#45;&gt;Sunny --><g id=\"edge1\" class=\"edge\"><title>Sunny-&gt;Sunny</title><path fill=\"none\" stroke=\"black\" d=\"M28.16,-37.62C25.89,-47.3 29.94,-56.21 40.3,-56.21 46.77,-56.21 50.78,-52.73 52.32,-47.76\"/><polygon fill=\"black\" stroke=\"black\" points=\"55.82,-47.66 52.44,-37.62 48.82,-47.58 55.82,-47.66\"/><text text-anchor=\"middle\" x=\"40.3\" y=\"-60.01\" font-family=\"Times,serif\" font-size=\"14.00\">0.9</text></g><!-- Rainy --><g id=\"node2\" class=\"node\"><title>Rainy</title><ellipse fill=\"none\" stroke=\"black\" cx=\"176.64\" cy=\"-20.21\" rx=\"37.09\" ry=\"18\"/><text text-anchor=\"middle\" x=\"176.64\" y=\"-16.51\" font-family=\"Times,serif\" font-size=\"14.00\">Rainy</text></g><!-- Sunny&#45;&gt;Rainy --><g id=\"edge2\" class=\"edge\"><title>Sunny-&gt;Rainy</title><path fill=\"none\" stroke=\"black\" d=\"M80.88,-20.21C96.11,-20.21 113.65,-20.21 129.45,-20.21\"/><polygon fill=\"black\" stroke=\"black\" points=\"129.55,-23.71 139.55,-20.21 129.55,-16.71 129.55,-23.71\"/><text text-anchor=\"middle\" x=\"110.09\" y=\"-24.01\" font-family=\"Times,serif\" font-size=\"14.00\">0.1</text></g><!-- Rainy&#45;&gt;Sunny --><g id=\"edge4\" class=\"edge\"><title>Rainy-&gt;Sunny</title><path fill=\"none\" stroke=\"black\" d=\"M148.07,-8.51C139.72,-5.51 130.42,-2.72 121.59,-1.21 107.75,1.15 92.74,-1.08 79.48,-4.74\"/><polygon fill=\"black\" stroke=\"black\" points=\"78.25,-1.46 69.73,-7.76 80.32,-8.14 78.25,-1.46\"/><text text-anchor=\"middle\" x=\"110.09\" y=\"-5.01\" font-family=\"Times,serif\" font-size=\"14.00\">0.5</text></g><!-- Rainy&#45;&gt;Rainy --><g id=\"edge3\" class=\"edge\"><title>Rainy-&gt;Rainy</title><path fill=\"none\" stroke=\"black\" d=\"M164.86,-37.62C162.66,-47.3 166.58,-56.21 176.64,-56.21 182.92,-56.21 186.81,-52.73 188.31,-47.76\"/><polygon fill=\"black\" stroke=\"black\" points=\"191.81,-47.66 188.42,-37.62 184.81,-47.58 191.81,-47.66\"/><text text-anchor=\"middle\" x=\"176.64\" y=\"-60.01\" font-family=\"Times,serif\" font-size=\"14.00\">0.5</text></g></g></svg>"
      ],
      "text/plain": [
       "<IPython.core.display.SVG object>"
      ]
     },
     "execution_count": 34,
     "metadata": {},
     "output_type": "execute_result"
    }
   ],
   "source": [
    "show_graph()"
   ]
  },
  {
   "cell_type": "markdown",
   "metadata": {
    "slideshow": {
     "slide_type": "slide"
    }
   },
   "source": [
    "## Continuous time Markov chains\n",
    "\n",
    "Each edge has a transition rate. When we enter a state, we start exponentially-distributed clock for each outgoing edge and follow the one that ticks first, discarding other clocks.\n",
    "\n",
    "Example: we have broadband and mobile internet connection. The broadband fails on average once a year and takes a day to fix. Mobile fails once a month and takes an hour to fix. How long in a give year are we going to be without the Internet?"
   ]
  },
  {
   "cell_type": "code",
   "execution_count": 43,
   "metadata": {
    "slideshow": {
     "slide_type": "skip"
    }
   },
   "outputs": [],
   "source": [
    "%%bash\n",
    "cat > tmp.dot <<EOF\n",
    "digraph G {\n",
    "  rankdir=\"LR\";\n",
    "  \n",
    "  \"B|M\" -> \"_|M\" [label=\"1/365\"];\n",
    "  \"_|M\" -> \"B|M\" [label=\"1\"];\n",
    "  \"B|M\" -> \"B|_\" [label=\"1/30\"];\n",
    "  \"B|_\" -> \"B|M\" [label=\"24\"];\n",
    "  \"_|M\" -> \"_|_\" [label=\"1/30\"];\n",
    "  \"B|_\" -> \"_|_\" [label=\"1/365\"];\n",
    "  \"_|_\" -> \"B|_\" [label=\"1\"];\n",
    "  \"_|_\" -> \"_|M\" [label=\"24\"];\n",
    "  { rank=same; \"B|_\"; \"_|M\" }\n",
    "}\n",
    "EOF"
   ]
  },
  {
   "cell_type": "code",
   "execution_count": 46,
   "metadata": {
    "slideshow": {
     "slide_type": "fragment"
    }
   },
   "outputs": [
    {
     "data": {
      "image/svg+xml": [
       "<svg xmlns=\"http://www.w3.org/2000/svg\" xmlns:xlink=\"http://www.w3.org/1999/xlink\" width=\"330pt\" height=\"129pt\" viewBox=\"0.00 0.00 330.39 129.00\"><g id=\"graph0\" class=\"graph\" transform=\"scale(1 1) rotate(0) translate(4 125)\"><title>G</title><polygon fill=\"white\" stroke=\"transparent\" points=\"-4,4 -4,-125 326.39,-125 326.39,4 -4,4\"/><!-- B|M --><g id=\"node1\" class=\"node\"><title>B|M</title><ellipse fill=\"none\" stroke=\"black\" cx=\"29.9\" cy=\"-61\" rx=\"29.8\" ry=\"18\"/><text text-anchor=\"middle\" x=\"29.9\" y=\"-57.3\" font-family=\"Times,serif\" font-size=\"14.00\">B|M</text></g><!-- _|M --><g id=\"node2\" class=\"node\"><title>_|M</title><ellipse fill=\"none\" stroke=\"black\" cx=\"164.09\" cy=\"-99\" rx=\"27.1\" ry=\"18\"/><text text-anchor=\"middle\" x=\"164.09\" y=\"-95.3\" font-family=\"Times,serif\" font-size=\"14.00\">_|M</text></g><!-- B|M&#45;&gt;_|M --><g id=\"edge1\" class=\"edge\"><title>B|M-&gt;_|M</title><path fill=\"none\" stroke=\"black\" d=\"M46.38,-76.35C54.9,-83.75 66.1,-91.89 77.79,-96 93.24,-101.43 111.25,-102.73 126.72,-102.46\"/><polygon fill=\"black\" stroke=\"black\" points=\"127.12,-105.95 136.97,-102.05 126.84,-98.95 127.12,-105.95\"/><text text-anchor=\"middle\" x=\"98.29\" y=\"-105.8\" font-family=\"Times,serif\" font-size=\"14.00\">1/365</text></g><!-- B|_ --><g id=\"node3\" class=\"node\"><title>B|_</title><ellipse fill=\"none\" stroke=\"black\" cx=\"164.09\" cy=\"-18\" rx=\"27\" ry=\"18\"/><text text-anchor=\"middle\" x=\"164.09\" y=\"-14.3\" font-family=\"Times,serif\" font-size=\"14.00\">B|_</text></g><!-- B|M&#45;&gt;B|_ --><g id=\"edge3\" class=\"edge\"><title>B|M-&gt;B|_</title><path fill=\"none\" stroke=\"black\" d=\"M56.7,-52.61C77.64,-45.79 107.32,-36.14 130.01,-28.76\"/><polygon fill=\"black\" stroke=\"black\" points=\"131.15,-32.07 139.57,-25.65 128.98,-25.42 131.15,-32.07\"/><text text-anchor=\"middle\" x=\"98.29\" y=\"-47.8\" font-family=\"Times,serif\" font-size=\"14.00\">1/30</text></g><!-- _|M&#45;&gt;B|M --><g id=\"edge2\" class=\"edge\"><title>_|M-&gt;B|M</title><path fill=\"none\" stroke=\"black\" d=\"M142.87,-87.46C135.49,-83.65 126.94,-79.71 118.79,-77 103.13,-71.8 85.29,-68.16 69.8,-65.68\"/><polygon fill=\"black\" stroke=\"black\" points=\"69.92,-62.15 59.51,-64.14 68.88,-69.08 69.92,-62.15\"/><text text-anchor=\"middle\" x=\"98.29\" y=\"-80.8\" font-family=\"Times,serif\" font-size=\"14.00\">1</text></g><!-- _|_ --><g id=\"node4\" class=\"node\"><title>_|_</title><ellipse fill=\"none\" stroke=\"black\" cx=\"295.39\" cy=\"-66\" rx=\"27\" ry=\"18\"/><text text-anchor=\"middle\" x=\"295.39\" y=\"-62.3\" font-family=\"Times,serif\" font-size=\"14.00\">_|_</text></g><!-- _|M&#45;&gt;_|_ --><g id=\"edge5\" class=\"edge\"><title>_|M-&gt;_|_</title><path fill=\"none\" stroke=\"black\" d=\"M190.45,-104.18C207.81,-106.63 231.09,-107.74 250.39,-101 258.42,-98.19 266.09,-93.24 272.71,-87.93\"/><polygon fill=\"black\" stroke=\"black\" points=\"275.25,-90.35 280.47,-81.14 270.64,-85.08 275.25,-90.35\"/><text text-anchor=\"middle\" x=\"229.89\" y=\"-109.8\" font-family=\"Times,serif\" font-size=\"14.00\">1/30</text></g><!-- B|_&#45;&gt;B|M --><g id=\"edge4\" class=\"edge\"><title>B|_-&gt;B|M</title><path fill=\"none\" stroke=\"black\" d=\"M138.61,-11.45C121.02,-8.02 97.1,-5.99 77.79,-14 66.55,-18.67 56.59,-27.49 48.78,-36.24\"/><polygon fill=\"black\" stroke=\"black\" points=\"45.93,-34.2 42.24,-44.13 51.32,-38.67 45.93,-34.2\"/><text text-anchor=\"middle\" x=\"98.29\" y=\"-17.8\" font-family=\"Times,serif\" font-size=\"14.00\">24</text></g><!-- B|_&#45;&gt;_|_ --><g id=\"edge6\" class=\"edge\"><title>B|_-&gt;_|_</title><path fill=\"none\" stroke=\"black\" d=\"M188.21,-26.58C208.71,-34.19 238.87,-45.39 261.82,-53.91\"/><polygon fill=\"black\" stroke=\"black\" points=\"260.88,-57.29 271.47,-57.49 263.32,-50.73 260.88,-57.29\"/><text text-anchor=\"middle\" x=\"229.89\" y=\"-52.8\" font-family=\"Times,serif\" font-size=\"14.00\">1/365</text></g><!-- _|_&#45;&gt;_|M --><g id=\"edge8\" class=\"edge\"><title>_|_-&gt;_|M</title><path fill=\"none\" stroke=\"black\" d=\"M268.82,-69.58C251.8,-72.26 229.04,-76.43 209.39,-82 205.29,-83.16 201.04,-84.55 196.86,-86.02\"/><polygon fill=\"black\" stroke=\"black\" points=\"195.52,-82.79 187.36,-89.55 197.95,-89.35 195.52,-82.79\"/><text text-anchor=\"middle\" x=\"229.89\" y=\"-85.8\" font-family=\"Times,serif\" font-size=\"14.00\">24</text></g><!-- _|_&#45;&gt;B|_ --><g id=\"edge7\" class=\"edge\"><title>_|_-&gt;B|_</title><path fill=\"none\" stroke=\"black\" d=\"M285.28,-49.28C277.71,-37.27 265.7,-22.01 250.39,-15 234.7,-7.81 215.63,-7.79 199.5,-9.89\"/><polygon fill=\"black\" stroke=\"black\" points=\"198.7,-6.48 189.39,-11.53 199.82,-13.39 198.7,-6.48\"/><text text-anchor=\"middle\" x=\"229.89\" y=\"-18.8\" font-family=\"Times,serif\" font-size=\"14.00\">1</text></g></g></svg>"
      ],
      "text/plain": [
       "<IPython.core.display.SVG object>"
      ]
     },
     "execution_count": 46,
     "metadata": {},
     "output_type": "execute_result"
    }
   ],
   "source": [
    "show_graph()"
   ]
  },
  {
   "cell_type": "markdown",
   "metadata": {
    "slideshow": {
     "slide_type": "slide"
    }
   },
   "source": [
    "$\\pi(s)$ -- the average time spent in state $s$; the _equilibrium_; can be computed from equations:\n",
    "\n",
    "* $\\sum\\pi(s)=1$\n",
    "* for all $s\\in S$ $\\sum\\limits_{t\\in S} R(t,s)\\pi(t)=\\pi(s)\\sum\\limits_{u\\in S} R(s,u)$ (flow equations: lhs is the flow in, rhs is flow out)\n",
    "\n",
    "Easier form for _reversible_ CTMCs:\n",
    "\n",
    "$$\\pi(s)R(s,t) = \\pi(t)R(t,s)$$\n",
    "\n",
    "This one is reversible (product of rates in every cycle of length 3+ equals the product in the same cycle reversed), so:"
   ]
  },
  {
   "cell_type": "code",
   "execution_count": 56,
   "metadata": {
    "slideshow": {
     "slide_type": "slide"
    }
   },
   "outputs": [
    {
     "name": "stdout",
     "output_type": "stream",
     "text": [
      "[9.95884587e-01 2.72845092e-03 1.38317304e-03 3.78951517e-06]\n",
      "1.9917691730519995\n"
     ]
    }
   ],
   "source": [
    "             # B|M    _|M   B|_    _|_\n",
    "A = np.array([[1/365, -1,   0,     0  ],  #  B|M  <->  _|M\n",
    "              [1/30,  0,    -24,   0  ],  #  B|M  <->  B|_\n",
    "              [0,     1/30, 0,     -24],  #  _|M  <->  _|_\n",
    "#             [0,     0,    1/365, -1 ],  #  B|_  <->  _|_\n",
    "              [1,     1,    1,      1 ],  # sum = 1\n",
    "             ])\n",
    "y = np.array([0, 0, 0, 1])\n",
    "\n",
    "pi = np.linalg.solve(A, y)\n",
    "print(pi)\n",
    "print(pi[3]*(365*24*60))"
   ]
  },
  {
   "cell_type": "markdown",
   "metadata": {
    "slideshow": {
     "slide_type": "fragment"
    }
   },
   "source": [
    "Note: we didn't need all 4 flow equations, one was redundant; on the other hand we need the final $\\sum=1$ condition. Removing any other equation does not change the result."
   ]
  },
  {
   "cell_type": "markdown",
   "metadata": {
    "slideshow": {
     "slide_type": "slide"
    }
   },
   "source": [
    "# Queues\n",
    "\n",
    "X/Y/m/n\n",
    "\n",
    "* **X**: arrival distribution, **Y**: departure (service time) distribution:\n",
    "    * D - deterministic\n",
    "    * M - Markovian (exponentially distributed)\n",
    "    * G - general\n",
    "* **m**: the number of servers\n",
    "* **n**: capacity (infinity if not specified)"
   ]
  },
  {
   "cell_type": "markdown",
   "metadata": {
    "slideshow": {
     "slide_type": "slide"
    }
   },
   "source": [
    "## D/D/1\n",
    "\n",
    "Example: arrivals every 1s, service time 0.5s\n",
    "\n",
    "Occupancy $L$:\n",
    "\n",
    "* $P(L=0) = 0.5$\n",
    "* $P(L=1) = 0.5$"
   ]
  },
  {
   "cell_type": "markdown",
   "metadata": {
    "slideshow": {
     "slide_type": "slide"
    }
   },
   "source": [
    "## M/M/1\n",
    "\n",
    "* arrival rate: l ($\\lambda$)\n",
    "* service time rate: m ($\\mu$)"
   ]
  },
  {
   "cell_type": "code",
   "execution_count": 62,
   "metadata": {
    "slideshow": {
     "slide_type": "skip"
    }
   },
   "outputs": [],
   "source": [
    "%%bash\n",
    "cat > tmp.dot <<EOF\n",
    "digraph G {\n",
    "  rankdir=\"LR\";\n",
    "  0 -> 1 [label=\"l\"];\n",
    "  1 -> 2 [label=\"l\"];\n",
    "  2 -> 3 [label=\"l\"];\n",
    "  3 -> \"...\" [label=\"l\"];\n",
    "  \"...\" -> 3 [label=\"m\"];\n",
    "  3 -> 2 [label=\"m\"];\n",
    "  2 -> 1 [label=\"m\"];\n",
    "  1 -> 0 [label=\"m\"];\n",
    "  \"...\" [shape=none];\n",
    "}\n",
    "EOF"
   ]
  },
  {
   "cell_type": "code",
   "execution_count": 63,
   "metadata": {
    "slideshow": {
     "slide_type": "fragment"
    }
   },
   "outputs": [
    {
     "data": {
      "image/svg+xml": [
       "<svg xmlns=\"http://www.w3.org/2000/svg\" xmlns:xlink=\"http://www.w3.org/1999/xlink\" width=\"478pt\" height=\"46pt\" viewBox=\"0.00 0.00 478.00 46.35\"><g id=\"graph0\" class=\"graph\" transform=\"scale(1 1) rotate(0) translate(4 42.35)\"><title>G</title><polygon fill=\"white\" stroke=\"transparent\" points=\"-4,4 -4,-42.35 474,-42.35 474,4 -4,4\"/><!-- 0 --><g id=\"node1\" class=\"node\"><title>0</title><ellipse fill=\"none\" stroke=\"black\" cx=\"27\" cy=\"-20.35\" rx=\"27\" ry=\"18\"/><text text-anchor=\"middle\" x=\"27\" y=\"-16.65\" font-family=\"Times,serif\" font-size=\"14.00\">0</text></g><!-- 1 --><g id=\"node2\" class=\"node\"><title>1</title><ellipse fill=\"none\" stroke=\"black\" cx=\"131\" cy=\"-20.35\" rx=\"27\" ry=\"18\"/><text text-anchor=\"middle\" x=\"131\" y=\"-16.65\" font-family=\"Times,serif\" font-size=\"14.00\">1</text></g><!-- 0&#45;&gt;1 --><g id=\"edge1\" class=\"edge\"><title>0-&gt;1</title><path fill=\"none\" stroke=\"black\" d=\"M54,-20.35C66.02,-20.35 80.49,-20.35 93.57,-20.35\"/><polygon fill=\"black\" stroke=\"black\" points=\"93.69,-23.85 103.69,-20.35 93.69,-16.85 93.69,-23.85\"/><text text-anchor=\"middle\" x=\"79\" y=\"-24.15\" font-family=\"Times,serif\" font-size=\"14.00\">l</text></g><!-- 1&#45;&gt;0 --><g id=\"edge8\" class=\"edge\"><title>1-&gt;0</title><path fill=\"none\" stroke=\"black\" d=\"M109.09,-9.26C101.97,-6.04 93.82,-2.97 86,-1.35 76.4,0.63 66.16,-1.3 57,-4.58\"/><polygon fill=\"black\" stroke=\"black\" points=\"55.43,-1.44 47.56,-8.54 58.14,-7.89 55.43,-1.44\"/><text text-anchor=\"middle\" x=\"79\" y=\"-5.15\" font-family=\"Times,serif\" font-size=\"14.00\">m</text></g><!-- 2 --><g id=\"node3\" class=\"node\"><title>2</title><ellipse fill=\"none\" stroke=\"black\" cx=\"235\" cy=\"-20.35\" rx=\"27\" ry=\"18\"/><text text-anchor=\"middle\" x=\"235\" y=\"-16.65\" font-family=\"Times,serif\" font-size=\"14.00\">2</text></g><!-- 1&#45;&gt;2 --><g id=\"edge2\" class=\"edge\"><title>1-&gt;2</title><path fill=\"none\" stroke=\"black\" d=\"M158,-20.35C170.02,-20.35 184.49,-20.35 197.57,-20.35\"/><polygon fill=\"black\" stroke=\"black\" points=\"197.69,-23.85 207.69,-20.35 197.69,-16.85 197.69,-23.85\"/><text text-anchor=\"middle\" x=\"183\" y=\"-24.15\" font-family=\"Times,serif\" font-size=\"14.00\">l</text></g><!-- 2&#45;&gt;1 --><g id=\"edge7\" class=\"edge\"><title>2-&gt;1</title><path fill=\"none\" stroke=\"black\" d=\"M213.09,-9.26C205.97,-6.04 197.82,-2.97 190,-1.35 180.4,0.63 170.16,-1.3 161,-4.58\"/><polygon fill=\"black\" stroke=\"black\" points=\"159.43,-1.44 151.56,-8.54 162.14,-7.89 159.43,-1.44\"/><text text-anchor=\"middle\" x=\"183\" y=\"-5.15\" font-family=\"Times,serif\" font-size=\"14.00\">m</text></g><!-- 3 --><g id=\"node4\" class=\"node\"><title>3</title><ellipse fill=\"none\" stroke=\"black\" cx=\"339\" cy=\"-20.35\" rx=\"27\" ry=\"18\"/><text text-anchor=\"middle\" x=\"339\" y=\"-16.65\" font-family=\"Times,serif\" font-size=\"14.00\">3</text></g><!-- 2&#45;&gt;3 --><g id=\"edge3\" class=\"edge\"><title>2-&gt;3</title><path fill=\"none\" stroke=\"black\" d=\"M262,-20.35C274.02,-20.35 288.49,-20.35 301.57,-20.35\"/><polygon fill=\"black\" stroke=\"black\" points=\"301.69,-23.85 311.69,-20.35 301.69,-16.85 301.69,-23.85\"/><text text-anchor=\"middle\" x=\"287\" y=\"-24.15\" font-family=\"Times,serif\" font-size=\"14.00\">l</text></g><!-- 3&#45;&gt;2 --><g id=\"edge6\" class=\"edge\"><title>3-&gt;2</title><path fill=\"none\" stroke=\"black\" d=\"M318.44,-8.54C307.33,-3.21 293.07,1.35 280,-1.35 275.48,-2.29 270.85,-3.71 266.37,-5.36\"/><polygon fill=\"black\" stroke=\"black\" points=\"264.83,-2.21 256.91,-9.26 267.49,-8.69 264.83,-2.21\"/><text text-anchor=\"middle\" x=\"287\" y=\"-5.15\" font-family=\"Times,serif\" font-size=\"14.00\">m</text></g><!-- ... --><g id=\"node5\" class=\"node\"><title>...</title><text text-anchor=\"middle\" x=\"443\" y=\"-16.65\" font-family=\"Times,serif\" font-size=\"14.00\">...</text></g><!-- 3&#45;&gt;... --><g id=\"edge4\" class=\"edge\"><title>3-&gt;...</title><path fill=\"none\" stroke=\"black\" d=\"M366,-20.35C378.02,-20.35 392.49,-20.35 405.57,-20.35\"/><polygon fill=\"black\" stroke=\"black\" points=\"405.69,-23.85 415.69,-20.35 405.69,-16.85 405.69,-23.85\"/><text text-anchor=\"middle\" x=\"391\" y=\"-24.15\" font-family=\"Times,serif\" font-size=\"14.00\">l</text></g><!-- ...&#45;&gt;3 --><g id=\"edge5\" class=\"edge\"><title>...-&gt;3</title><path fill=\"none\" stroke=\"black\" d=\"M415.78,-5.62C405.94,-1.74 394.58,0.84 384,-1.35 379.48,-2.29 374.85,-3.71 370.37,-5.36\"/><polygon fill=\"black\" stroke=\"black\" points=\"368.83,-2.21 360.91,-9.26 371.49,-8.69 368.83,-2.21\"/><text text-anchor=\"middle\" x=\"391\" y=\"-5.15\" font-family=\"Times,serif\" font-size=\"14.00\">m</text></g></g></svg>"
      ],
      "text/plain": [
       "<IPython.core.display.SVG object>"
      ]
     },
     "execution_count": 63,
     "metadata": {},
     "output_type": "execute_result"
    }
   ],
   "source": [
    "show_graph()"
   ]
  },
  {
   "cell_type": "markdown",
   "metadata": {
    "slideshow": {
     "slide_type": "fragment"
    }
   },
   "source": [
    "Occupancy:\n",
    "\n",
    "- $P(L=n) = \\left(1-\\frac{\\lambda}{\\mu}\\right)\\left(\\frac{\\lambda}{\\mu}\\right)^n$\n",
    "- $E(L) = \\frac{\\lambda/\\mu}{1-\\lambda/\\mu}$\n",
    "\n",
    "Utilisation:\n",
    "\n",
    "- $\\rho=1-P(L=0)=\\frac{\\lambda}{\\mu}$\n",
    "\n",
    "Response time:\n",
    "\n",
    "- $E(W) = \\frac{1}{\\mu(1-\\rho)} = \\frac{1}{\\mu-\\lambda}$\n",
    "\n",
    "Busy period:\n",
    "\n",
    "- $E(B)=\\frac{1}{\\mu(1-\\rho)}$"
   ]
  },
  {
   "cell_type": "markdown",
   "metadata": {
    "slideshow": {
     "slide_type": "slide"
    }
   },
   "source": [
    "# Aside: Little's law\n",
    "\n",
    "$$L=\\lambda W$$\n",
    "\n",
    "Where:\n",
    "\n",
    "- $W$: average response time\n",
    "- $L$: average occupancy\n",
    "- $\\lambda$: arrival rate\n",
    "\n",
    "Holds for (almost) any possible system."
   ]
  },
  {
   "cell_type": "markdown",
   "metadata": {
    "slideshow": {
     "slide_type": "slide"
    }
   },
   "source": [
    "## M/G/1\n",
    "\n",
    "Need to know something about the service times; if $S$ is the random variable describing service time, we will take:\n",
    "\n",
    "- $\\mu=\\frac{1}{E(S)}$\n",
    "- $C^2_S = \\frac{V(S)}{E(S)^2}$ – coefficient of variation; to account for $S$ not being exponential\n",
    "\n",
    "Utilisation:\n",
    "\n",
    "- $\\rho=\\frac{\\lambda}{\\mu}$\n",
    "\n",
    "Occupancy:\n",
    "\n",
    "- $E(L) = \\frac{\\rho}{1-\\rho}(s-\\frac{1}{2}\\rho(1-C^2_S))$\n",
    "\n",
    "Response time:\n",
    "\n",
    "- $E(W) = \\frac{1}{\\mu(1-\\rho)}\\left(1-\\frac{1}{2}\\rho(1-C_S^2)\\right)$\n",
    "\n",
    "Busy period:\n",
    "\n",
    "- $E(B) = \\frac{1}{\\rho-\\lambda}$"
   ]
  },
  {
   "cell_type": "markdown",
   "metadata": {
    "slideshow": {
     "slide_type": "slide"
    }
   },
   "source": [
    "## M/M/c"
   ]
  },
  {
   "cell_type": "code",
   "execution_count": 66,
   "metadata": {
    "slideshow": {
     "slide_type": "skip"
    }
   },
   "outputs": [],
   "source": [
    "%%bash\n",
    "cat > tmp.dot <<EOF\n",
    "digraph G {\n",
    "  rankdir=\"LR\";\n",
    "  0 -> 1 [label=\"l\"];\n",
    "  1 -> 0 [label=\"m\"];\n",
    "  1 -> 2 [label=\"l\"];\n",
    "  2 -> 1 [label=\"2m\"];\n",
    "  2 -> e1 [label=\"l\"];\n",
    "  e1 -> 2 [label=\"3m\"];\n",
    "  e1 -> \"c-1\" [label=\"l\"];\n",
    "  \"c-1\" -> e1 [label=\"(c-1)m\"];\n",
    "  \"c-1\" -> c [label=\"l\"];\n",
    "  c -> \"c-1\" [label=\"cm\"];\n",
    "  c -> \"c+1\" [label=\"l\"];\n",
    "  \"c+1\" -> c [label=\"cm\"];\n",
    "  \"c+1\" -> e2 [label=\"l\"];\n",
    "  e2 -> \"c+1\" [label=\"cm\"];\n",
    "  e1 [shape=none,label=\"...\"];\n",
    "  e2 [shape=none,label=\"...\"];\n",
    "}\n",
    "EOF"
   ]
  },
  {
   "cell_type": "code",
   "execution_count": 67,
   "metadata": {
    "slideshow": {
     "slide_type": "fragment"
    }
   },
   "outputs": [
    {
     "data": {
      "image/svg+xml": [
       "<svg xmlns=\"http://www.w3.org/2000/svg\" xmlns:xlink=\"http://www.w3.org/1999/xlink\" width=\"868pt\" height=\"48pt\" viewBox=\"0.00 0.00 868.49 48.10\"><g id=\"graph0\" class=\"graph\" transform=\"scale(1 1) rotate(0) translate(4 44.1)\"><title>G</title><polygon fill=\"white\" stroke=\"transparent\" points=\"-4,4 -4,-44.1 864.49,-44.1 864.49,4 -4,4\"/><!-- 0 --><g id=\"node1\" class=\"node\"><title>0</title><ellipse fill=\"none\" stroke=\"black\" cx=\"27\" cy=\"-22.1\" rx=\"27\" ry=\"18\"/><text text-anchor=\"middle\" x=\"27\" y=\"-18.4\" font-family=\"Times,serif\" font-size=\"14.00\">0</text></g><!-- 1 --><g id=\"node2\" class=\"node\"><title>1</title><ellipse fill=\"none\" stroke=\"black\" cx=\"131\" cy=\"-22.1\" rx=\"27\" ry=\"18\"/><text text-anchor=\"middle\" x=\"131\" y=\"-18.4\" font-family=\"Times,serif\" font-size=\"14.00\">1</text></g><!-- 0&#45;&gt;1 --><g id=\"edge1\" class=\"edge\"><title>0-&gt;1</title><path fill=\"none\" stroke=\"black\" d=\"M54,-22.1C66.02,-22.1 80.49,-22.1 93.57,-22.1\"/><polygon fill=\"black\" stroke=\"black\" points=\"93.69,-25.6 103.69,-22.1 93.69,-18.6 93.69,-25.6\"/><text text-anchor=\"middle\" x=\"79\" y=\"-25.9\" font-family=\"Times,serif\" font-size=\"14.00\">l</text></g><!-- 1&#45;&gt;0 --><g id=\"edge2\" class=\"edge\"><title>1-&gt;0</title><path fill=\"none\" stroke=\"black\" d=\"M110.44,-10.29C99.33,-4.96 85.07,-0.4 72,-3.1 67.48,-4.04 62.85,-5.46 58.37,-7.12\"/><polygon fill=\"black\" stroke=\"black\" points=\"56.83,-3.97 48.91,-11.01 59.49,-10.44 56.83,-3.97\"/><text text-anchor=\"middle\" x=\"79\" y=\"-6.9\" font-family=\"Times,serif\" font-size=\"14.00\">m</text></g><!-- 2 --><g id=\"node3\" class=\"node\"><title>2</title><ellipse fill=\"none\" stroke=\"black\" cx=\"244\" cy=\"-22.1\" rx=\"27\" ry=\"18\"/><text text-anchor=\"middle\" x=\"244\" y=\"-18.4\" font-family=\"Times,serif\" font-size=\"14.00\">2</text></g><!-- 1&#45;&gt;2 --><g id=\"edge3\" class=\"edge\"><title>1-&gt;2</title><path fill=\"none\" stroke=\"black\" d=\"M158.02,-22.1C172.53,-22.1 190.83,-22.1 206.72,-22.1\"/><polygon fill=\"black\" stroke=\"black\" points=\"206.75,-25.6 216.75,-22.1 206.75,-18.6 206.75,-25.6\"/><text text-anchor=\"middle\" x=\"187.5\" y=\"-25.9\" font-family=\"Times,serif\" font-size=\"14.00\">l</text></g><!-- 2&#45;&gt;1 --><g id=\"edge4\" class=\"edge\"><title>2-&gt;1</title><path fill=\"none\" stroke=\"black\" d=\"M222.09,-11.01C214.97,-7.8 206.82,-4.72 199,-3.1 188.99,-1.03 186.01,-1.03 176,-3.1 171.48,-4.04 166.85,-5.46 162.37,-7.12\"/><polygon fill=\"black\" stroke=\"black\" points=\"160.83,-3.97 152.91,-11.01 163.49,-10.44 160.83,-3.97\"/><text text-anchor=\"middle\" x=\"187.5\" y=\"-6.9\" font-family=\"Times,serif\" font-size=\"14.00\">2m</text></g><!-- e1 --><g id=\"node4\" class=\"node\"><title>e1</title><text text-anchor=\"middle\" x=\"357\" y=\"-18.4\" font-family=\"Times,serif\" font-size=\"14.00\">...</text></g><!-- 2&#45;&gt;e1 --><g id=\"edge5\" class=\"edge\"><title>2-&gt;e1</title><path fill=\"none\" stroke=\"black\" d=\"M271.02,-22.1C285.53,-22.1 303.83,-22.1 319.72,-22.1\"/><polygon fill=\"black\" stroke=\"black\" points=\"319.75,-25.6 329.75,-22.1 319.75,-18.6 319.75,-25.6\"/><text text-anchor=\"middle\" x=\"300.5\" y=\"-25.9\" font-family=\"Times,serif\" font-size=\"14.00\">l</text></g><!-- e1&#45;&gt;2 --><g id=\"edge6\" class=\"edge\"><title>e1-&gt;2</title><path fill=\"none\" stroke=\"black\" d=\"M329.58,-8.65C323.91,-6.35 317.87,-4.32 312,-3.1 301.99,-1.03 299.01,-1.03 289,-3.1 284.48,-4.04 279.85,-5.46 275.37,-7.12\"/><polygon fill=\"black\" stroke=\"black\" points=\"273.83,-3.97 265.91,-11.01 276.49,-10.44 273.83,-3.97\"/><text text-anchor=\"middle\" x=\"300.5\" y=\"-6.9\" font-family=\"Times,serif\" font-size=\"14.00\">3m</text></g><!-- c&#45;1 --><g id=\"node5\" class=\"node\"><title>c-1</title><ellipse fill=\"none\" stroke=\"black\" cx=\"493\" cy=\"-22.1\" rx=\"27\" ry=\"18\"/><text text-anchor=\"middle\" x=\"493\" y=\"-18.4\" font-family=\"Times,serif\" font-size=\"14.00\">c-1</text></g><!-- e1&#45;&gt;c&#45;1 --><g id=\"edge7\" class=\"edge\"><title>e1-&gt;c-1</title><path fill=\"none\" stroke=\"black\" d=\"M384.15,-22.1C404.54,-22.1 433.08,-22.1 455.68,-22.1\"/><polygon fill=\"black\" stroke=\"black\" points=\"455.91,-25.6 465.91,-22.1 455.91,-18.6 455.91,-25.6\"/><text text-anchor=\"middle\" x=\"425\" y=\"-25.9\" font-family=\"Times,serif\" font-size=\"14.00\">l</text></g><!-- c&#45;1&#45;&gt;e1 --><g id=\"edge8\" class=\"edge\"><title>c-1-&gt;e1</title><path fill=\"none\" stroke=\"black\" d=\"M471.09,-11.01C463.97,-7.8 455.82,-4.72 448,-3.1 427.98,1.03 422.02,1.03 402,-3.1 399.34,-3.65 396.65,-4.37 393.97,-5.21\"/><polygon fill=\"black\" stroke=\"black\" points=\"392.64,-1.96 384.42,-8.65 395.02,-8.55 392.64,-1.96\"/><text text-anchor=\"middle\" x=\"425\" y=\"-6.9\" font-family=\"Times,serif\" font-size=\"14.00\">(c-1)m</text></g><!-- c --><g id=\"node6\" class=\"node\"><title>c</title><ellipse fill=\"none\" stroke=\"black\" cx=\"605\" cy=\"-22.1\" rx=\"27\" ry=\"18\"/><text text-anchor=\"middle\" x=\"605\" y=\"-18.4\" font-family=\"Times,serif\" font-size=\"14.00\">c</text></g><!-- c&#45;1&#45;&gt;c --><g id=\"edge9\" class=\"edge\"><title>c-1-&gt;c</title><path fill=\"none\" stroke=\"black\" d=\"M520.07,-22.1C534.21,-22.1 551.92,-22.1 567.43,-22.1\"/><polygon fill=\"black\" stroke=\"black\" points=\"567.74,-25.6 577.74,-22.1 567.74,-18.6 567.74,-25.6\"/><text text-anchor=\"middle\" x=\"549\" y=\"-25.9\" font-family=\"Times,serif\" font-size=\"14.00\">l</text></g><!-- c&#45;&gt;c&#45;1 --><g id=\"edge10\" class=\"edge\"><title>c-&gt;c-1</title><path fill=\"none\" stroke=\"black\" d=\"M583.09,-11.01C575.97,-7.8 567.82,-4.72 560,-3.1 550.42,-1.12 547.58,-1.12 538,-3.1 533.48,-4.04 528.85,-5.46 524.37,-7.12\"/><polygon fill=\"black\" stroke=\"black\" points=\"522.83,-3.97 514.91,-11.01 525.49,-10.44 522.83,-3.97\"/><text text-anchor=\"middle\" x=\"549\" y=\"-6.9\" font-family=\"Times,serif\" font-size=\"14.00\">cm</text></g><!-- c+1 --><g id=\"node7\" class=\"node\"><title>c+1</title><ellipse fill=\"none\" stroke=\"black\" cx=\"719.25\" cy=\"-22.1\" rx=\"29.5\" ry=\"18\"/><text text-anchor=\"middle\" x=\"719.25\" y=\"-18.4\" font-family=\"Times,serif\" font-size=\"14.00\">c+1</text></g><!-- c&#45;&gt;c+1 --><g id=\"edge11\" class=\"edge\"><title>c-&gt;c+1</title><path fill=\"none\" stroke=\"black\" d=\"M632.03,-22.1C646.27,-22.1 664.18,-22.1 679.98,-22.1\"/><polygon fill=\"black\" stroke=\"black\" points=\"680,-25.6 690,-22.1 680,-18.6 680,-25.6\"/><text text-anchor=\"middle\" x=\"661\" y=\"-25.9\" font-family=\"Times,serif\" font-size=\"14.00\">l</text></g><!-- c+1&#45;&gt;c --><g id=\"edge12\" class=\"edge\"><title>c+1-&gt;c</title><path fill=\"none\" stroke=\"black\" d=\"M696.61,-10.6C683.28,-4.89 665.78,0.16 650,-3.1 645.48,-4.04 640.85,-5.46 636.37,-7.12\"/><polygon fill=\"black\" stroke=\"black\" points=\"634.83,-3.97 626.91,-11.01 637.49,-10.44 634.83,-3.97\"/><text text-anchor=\"middle\" x=\"661\" y=\"-6.9\" font-family=\"Times,serif\" font-size=\"14.00\">cm</text></g><!-- e2 --><g id=\"node8\" class=\"node\"><title>e2</title><text text-anchor=\"middle\" x=\"833.49\" y=\"-18.4\" font-family=\"Times,serif\" font-size=\"14.00\">...</text></g><!-- c+1&#45;&gt;e2 --><g id=\"edge13\" class=\"edge\"><title>c+1-&gt;e2</title><path fill=\"none\" stroke=\"black\" d=\"M748.57,-22.1C763.03,-22.1 780.78,-22.1 796.23,-22.1\"/><polygon fill=\"black\" stroke=\"black\" points=\"796.49,-25.6 806.49,-22.1 796.49,-18.6 796.49,-25.6\"/><text text-anchor=\"middle\" x=\"777.49\" y=\"-25.9\" font-family=\"Times,serif\" font-size=\"14.00\">l</text></g><!-- e2&#45;&gt;c+1 --><g id=\"edge14\" class=\"edge\"><title>e2-&gt;c+1</title><path fill=\"none\" stroke=\"black\" d=\"M806.07,-8.65C800.41,-6.35 794.36,-4.32 788.49,-3.1 776.29,-0.58 763.06,-3.03 751.52,-6.91\"/><polygon fill=\"black\" stroke=\"black\" points=\"749.97,-3.76 741.89,-10.6 752.48,-10.3 749.97,-3.76\"/><text text-anchor=\"middle\" x=\"777.49\" y=\"-6.9\" font-family=\"Times,serif\" font-size=\"14.00\">cm</text></g></g></svg>"
      ],
      "text/plain": [
       "<IPython.core.display.SVG object>"
      ]
     },
     "execution_count": 67,
     "metadata": {},
     "output_type": "execute_result"
    }
   ],
   "source": [
    "show_graph()"
   ]
  },
  {
   "cell_type": "markdown",
   "metadata": {},
   "source": [
    "Occupancy:\n",
    "\n",
    "- $P(L=j) = \\pi(j) = \\begin{cases} \\left(1+\\frac{\\rho^c}{(c-\\rho)(c-1)!}+\\sum\\limits_{k=0}^{c-1}\\frac{\\rho^k}{k!}\\right)^{-1} & \\text{if } j=0,\\\\ \\pi(0)\\frac{\\rho^j}{j!} & \\text{if } 0<j<c,\\\\ \\pi(0)c^{c-j}\\frac{\\rho^j}{c!} & \\text{if } j\\geq c \\end{cases}$\n",
    "- $E(L) = \\pi(0)\\frac{\\rho^c(c^2-c\\rho+\\rho)}{(c-\\rho)^2(c-1)!}+\\pi(0)\\sum\\limits_{j=1}^{c-1}\\frac{\\rho^i}{(j-1)!}$"
   ]
  },
  {
   "cell_type": "markdown",
   "metadata": {
    "slideshow": {
     "slide_type": "slide"
    }
   },
   "source": [
    "## M/M/1/n"
   ]
  },
  {
   "cell_type": "code",
   "execution_count": 70,
   "metadata": {
    "slideshow": {
     "slide_type": "skip"
    }
   },
   "outputs": [],
   "source": [
    "%%bash\n",
    "cat > tmp.dot <<EOF\n",
    "digraph G {\n",
    "  rankdir=LR;\n",
    "  0 -> 1 [label=\"l\"];\n",
    "  1 -> 0 [label=\"m\"];\n",
    "  1 -> 2 [label=\"l\"];\n",
    "  2 -> 1 [label=\"m\"];\n",
    "  2 -> \"...\" [label=\"l\"];\n",
    "  \"...\" -> 2 [label=\"m\"];\n",
    "  \"...\" -> \"n\" [label=\"l\"];\n",
    "  \"n\" -> \"...\" [label=\"m\"];\n",
    "  \"...\" [shape=none];\n",
    "}\n",
    "EOF"
   ]
  },
  {
   "cell_type": "code",
   "execution_count": 71,
   "metadata": {
    "slideshow": {
     "slide_type": "fragment"
    }
   },
   "outputs": [
    {
     "data": {
      "image/svg+xml": [
       "<svg xmlns=\"http://www.w3.org/2000/svg\" xmlns:xlink=\"http://www.w3.org/1999/xlink\" width=\"478pt\" height=\"46pt\" viewBox=\"0.00 0.00 478.00 46.35\"><g id=\"graph0\" class=\"graph\" transform=\"scale(1 1) rotate(0) translate(4 42.35)\"><title>G</title><polygon fill=\"white\" stroke=\"transparent\" points=\"-4,4 -4,-42.35 474,-42.35 474,4 -4,4\"/><!-- 0 --><g id=\"node1\" class=\"node\"><title>0</title><ellipse fill=\"none\" stroke=\"black\" cx=\"27\" cy=\"-20.35\" rx=\"27\" ry=\"18\"/><text text-anchor=\"middle\" x=\"27\" y=\"-16.65\" font-family=\"Times,serif\" font-size=\"14.00\">0</text></g><!-- 1 --><g id=\"node2\" class=\"node\"><title>1</title><ellipse fill=\"none\" stroke=\"black\" cx=\"131\" cy=\"-20.35\" rx=\"27\" ry=\"18\"/><text text-anchor=\"middle\" x=\"131\" y=\"-16.65\" font-family=\"Times,serif\" font-size=\"14.00\">1</text></g><!-- 0&#45;&gt;1 --><g id=\"edge1\" class=\"edge\"><title>0-&gt;1</title><path fill=\"none\" stroke=\"black\" d=\"M54,-20.35C66.02,-20.35 80.49,-20.35 93.57,-20.35\"/><polygon fill=\"black\" stroke=\"black\" points=\"93.69,-23.85 103.69,-20.35 93.69,-16.85 93.69,-23.85\"/><text text-anchor=\"middle\" x=\"79\" y=\"-24.15\" font-family=\"Times,serif\" font-size=\"14.00\">l</text></g><!-- 1&#45;&gt;0 --><g id=\"edge2\" class=\"edge\"><title>1-&gt;0</title><path fill=\"none\" stroke=\"black\" d=\"M109.09,-9.26C101.97,-6.04 93.82,-2.97 86,-1.35 76.4,0.63 66.16,-1.3 57,-4.58\"/><polygon fill=\"black\" stroke=\"black\" points=\"55.43,-1.44 47.56,-8.54 58.14,-7.89 55.43,-1.44\"/><text text-anchor=\"middle\" x=\"79\" y=\"-5.15\" font-family=\"Times,serif\" font-size=\"14.00\">m</text></g><!-- 2 --><g id=\"node3\" class=\"node\"><title>2</title><ellipse fill=\"none\" stroke=\"black\" cx=\"235\" cy=\"-20.35\" rx=\"27\" ry=\"18\"/><text text-anchor=\"middle\" x=\"235\" y=\"-16.65\" font-family=\"Times,serif\" font-size=\"14.00\">2</text></g><!-- 1&#45;&gt;2 --><g id=\"edge3\" class=\"edge\"><title>1-&gt;2</title><path fill=\"none\" stroke=\"black\" d=\"M158,-20.35C170.02,-20.35 184.49,-20.35 197.57,-20.35\"/><polygon fill=\"black\" stroke=\"black\" points=\"197.69,-23.85 207.69,-20.35 197.69,-16.85 197.69,-23.85\"/><text text-anchor=\"middle\" x=\"183\" y=\"-24.15\" font-family=\"Times,serif\" font-size=\"14.00\">l</text></g><!-- 2&#45;&gt;1 --><g id=\"edge4\" class=\"edge\"><title>2-&gt;1</title><path fill=\"none\" stroke=\"black\" d=\"M213.09,-9.26C205.97,-6.04 197.82,-2.97 190,-1.35 180.4,0.63 170.16,-1.3 161,-4.58\"/><polygon fill=\"black\" stroke=\"black\" points=\"159.43,-1.44 151.56,-8.54 162.14,-7.89 159.43,-1.44\"/><text text-anchor=\"middle\" x=\"183\" y=\"-5.15\" font-family=\"Times,serif\" font-size=\"14.00\">m</text></g><!-- ... --><g id=\"node4\" class=\"node\"><title>...</title><text text-anchor=\"middle\" x=\"339\" y=\"-16.65\" font-family=\"Times,serif\" font-size=\"14.00\">...</text></g><!-- 2&#45;&gt;... --><g id=\"edge5\" class=\"edge\"><title>2-&gt;...</title><path fill=\"none\" stroke=\"black\" d=\"M262,-20.35C274.02,-20.35 288.49,-20.35 301.57,-20.35\"/><polygon fill=\"black\" stroke=\"black\" points=\"301.69,-23.85 311.69,-20.35 301.69,-16.85 301.69,-23.85\"/><text text-anchor=\"middle\" x=\"287\" y=\"-24.15\" font-family=\"Times,serif\" font-size=\"14.00\">l</text></g><!-- ...&#45;&gt;2 --><g id=\"edge6\" class=\"edge\"><title>...-&gt;2</title><path fill=\"none\" stroke=\"black\" d=\"M311.78,-5.62C301.94,-1.74 290.58,0.84 280,-1.35 275.48,-2.29 270.85,-3.71 266.37,-5.36\"/><polygon fill=\"black\" stroke=\"black\" points=\"264.83,-2.21 256.91,-9.26 267.49,-8.69 264.83,-2.21\"/><text text-anchor=\"middle\" x=\"287\" y=\"-5.15\" font-family=\"Times,serif\" font-size=\"14.00\">m</text></g><!-- n --><g id=\"node5\" class=\"node\"><title>n</title><ellipse fill=\"none\" stroke=\"black\" cx=\"443\" cy=\"-20.35\" rx=\"27\" ry=\"18\"/><text text-anchor=\"middle\" x=\"443\" y=\"-16.65\" font-family=\"Times,serif\" font-size=\"14.00\">n</text></g><!-- ...&#45;&gt;n --><g id=\"edge7\" class=\"edge\"><title>...-&gt;n</title><path fill=\"none\" stroke=\"black\" d=\"M366,-20.35C378.02,-20.35 392.49,-20.35 405.57,-20.35\"/><polygon fill=\"black\" stroke=\"black\" points=\"405.69,-23.85 415.69,-20.35 405.69,-16.85 405.69,-23.85\"/><text text-anchor=\"middle\" x=\"391\" y=\"-24.15\" font-family=\"Times,serif\" font-size=\"14.00\">l</text></g><!-- n&#45;&gt;... --><g id=\"edge8\" class=\"edge\"><title>n-&gt;...</title><path fill=\"none\" stroke=\"black\" d=\"M422.44,-8.54C411.33,-3.21 397.07,1.35 384,-1.35 381.34,-1.9 378.65,-2.62 375.97,-3.45\"/><polygon fill=\"black\" stroke=\"black\" points=\"374.64,-0.21 366.42,-6.89 377.02,-6.79 374.64,-0.21\"/><text text-anchor=\"middle\" x=\"391\" y=\"-5.15\" font-family=\"Times,serif\" font-size=\"14.00\">m</text></g></g></svg>"
      ],
      "text/plain": [
       "<IPython.core.display.SVG object>"
      ]
     },
     "execution_count": 71,
     "metadata": {},
     "output_type": "execute_result"
    }
   ],
   "source": [
    "show_graph()"
   ]
  },
  {
   "cell_type": "markdown",
   "metadata": {
    "slideshow": {
     "slide_type": "fragment"
    }
   },
   "source": [
    "Occupancy:\n",
    "\n",
    "- $P(L=j)=\\frac{\\rho^j(1-\\rho)}{1-\\rho^{n+1}}$\n",
    "- $E(L) = (\\frac{\\rho}{1-\\rho})\\frac{1-\\rho^n(n+1-n\\rho)}{1-\\rho^{n+1}}$\n",
    "\n",
    "Blocking probability:\n",
    "\n",
    "- $P_B=P(L=n)$\n",
    "\n",
    "Throughput:\n",
    "\n",
    "- $\\gamma=\\lambda(1-P_B)$"
   ]
  },
  {
   "cell_type": "markdown",
   "metadata": {
    "slideshow": {
     "slide_type": "slide"
    }
   },
   "source": [
    "## M/M/n/n"
   ]
  },
  {
   "cell_type": "code",
   "execution_count": 72,
   "metadata": {
    "slideshow": {
     "slide_type": "skip"
    }
   },
   "outputs": [],
   "source": [
    "%%bash\n",
    "cat > tmp.dot <<EOF\n",
    "digraph G {\n",
    "  rankdir=LR;\n",
    "  0 -> 1 [label=\"l\"];\n",
    "  1 -> 0 [label=\"m\"];\n",
    "  1 -> 2 [label=\"l\"];\n",
    "  2 -> 1 [label=\"2m\"];\n",
    "  2 -> \"...\" [label=\"l\"];\n",
    "  \"...\" -> 2 [label=\"3m\"];\n",
    "  \"...\" -> \"n\" [label=\"l\"];\n",
    "  \"n\" -> \"...\" [label=\"nm\"];\n",
    "  \"...\" [shape=none];\n",
    "}\n",
    "EOF"
   ]
  },
  {
   "cell_type": "code",
   "execution_count": 73,
   "metadata": {
    "slideshow": {
     "slide_type": "fragment"
    }
   },
   "outputs": [
    {
     "data": {
      "image/svg+xml": [
       "<svg xmlns=\"http://www.w3.org/2000/svg\" xmlns:xlink=\"http://www.w3.org/1999/xlink\" width=\"505pt\" height=\"47pt\" viewBox=\"0.00 0.00 505.00 46.55\"><g id=\"graph0\" class=\"graph\" transform=\"scale(1 1) rotate(0) translate(4 42.55)\"><title>G</title><polygon fill=\"white\" stroke=\"transparent\" points=\"-4,4 -4,-42.55 501,-42.55 501,4 -4,4\"/><!-- 0 --><g id=\"node1\" class=\"node\"><title>0</title><ellipse fill=\"none\" stroke=\"black\" cx=\"27\" cy=\"-20.55\" rx=\"27\" ry=\"18\"/><text text-anchor=\"middle\" x=\"27\" y=\"-16.85\" font-family=\"Times,serif\" font-size=\"14.00\">0</text></g><!-- 1 --><g id=\"node2\" class=\"node\"><title>1</title><ellipse fill=\"none\" stroke=\"black\" cx=\"131\" cy=\"-20.55\" rx=\"27\" ry=\"18\"/><text text-anchor=\"middle\" x=\"131\" y=\"-16.85\" font-family=\"Times,serif\" font-size=\"14.00\">1</text></g><!-- 0&#45;&gt;1 --><g id=\"edge1\" class=\"edge\"><title>0-&gt;1</title><path fill=\"none\" stroke=\"black\" d=\"M54,-20.55C66.02,-20.55 80.49,-20.55 93.57,-20.55\"/><polygon fill=\"black\" stroke=\"black\" points=\"93.69,-24.05 103.69,-20.55 93.69,-17.05 93.69,-24.05\"/><text text-anchor=\"middle\" x=\"79\" y=\"-24.35\" font-family=\"Times,serif\" font-size=\"14.00\">l</text></g><!-- 1&#45;&gt;0 --><g id=\"edge2\" class=\"edge\"><title>1-&gt;0</title><path fill=\"none\" stroke=\"black\" d=\"M109.09,-9.46C101.97,-6.24 93.82,-3.17 86,-1.55 76.4,0.43 66.16,-1.5 57,-4.78\"/><polygon fill=\"black\" stroke=\"black\" points=\"55.43,-1.64 47.56,-8.74 58.14,-8.09 55.43,-1.64\"/><text text-anchor=\"middle\" x=\"79\" y=\"-5.35\" font-family=\"Times,serif\" font-size=\"14.00\">m</text></g><!-- 2 --><g id=\"node3\" class=\"node\"><title>2</title><ellipse fill=\"none\" stroke=\"black\" cx=\"244\" cy=\"-20.55\" rx=\"27\" ry=\"18\"/><text text-anchor=\"middle\" x=\"244\" y=\"-16.85\" font-family=\"Times,serif\" font-size=\"14.00\">2</text></g><!-- 1&#45;&gt;2 --><g id=\"edge3\" class=\"edge\"><title>1-&gt;2</title><path fill=\"none\" stroke=\"black\" d=\"M158.02,-20.55C172.53,-20.55 190.83,-20.55 206.72,-20.55\"/><polygon fill=\"black\" stroke=\"black\" points=\"206.75,-24.05 216.75,-20.55 206.75,-17.05 206.75,-24.05\"/><text text-anchor=\"middle\" x=\"187.5\" y=\"-24.35\" font-family=\"Times,serif\" font-size=\"14.00\">l</text></g><!-- 2&#45;&gt;1 --><g id=\"edge4\" class=\"edge\"><title>2-&gt;1</title><path fill=\"none\" stroke=\"black\" d=\"M222.09,-9.46C214.97,-6.24 206.82,-3.17 199,-1.55 188.99,0.52 186.01,0.52 176,-1.55 171.48,-2.49 166.85,-3.91 162.37,-5.56\"/><polygon fill=\"black\" stroke=\"black\" points=\"160.83,-2.41 152.91,-9.46 163.49,-8.89 160.83,-2.41\"/><text text-anchor=\"middle\" x=\"187.5\" y=\"-5.35\" font-family=\"Times,serif\" font-size=\"14.00\">2m</text></g><!-- ... --><g id=\"node4\" class=\"node\"><title>...</title><text text-anchor=\"middle\" x=\"357\" y=\"-16.85\" font-family=\"Times,serif\" font-size=\"14.00\">...</text></g><!-- 2&#45;&gt;... --><g id=\"edge5\" class=\"edge\"><title>2-&gt;...</title><path fill=\"none\" stroke=\"black\" d=\"M271.02,-20.55C285.53,-20.55 303.83,-20.55 319.72,-20.55\"/><polygon fill=\"black\" stroke=\"black\" points=\"319.75,-24.05 329.75,-20.55 319.75,-17.05 319.75,-24.05\"/><text text-anchor=\"middle\" x=\"300.5\" y=\"-24.35\" font-family=\"Times,serif\" font-size=\"14.00\">l</text></g><!-- ...&#45;&gt;2 --><g id=\"edge6\" class=\"edge\"><title>...-&gt;2</title><path fill=\"none\" stroke=\"black\" d=\"M329.58,-7.09C323.91,-4.8 317.87,-2.76 312,-1.55 301.99,0.52 299.01,0.52 289,-1.55 284.48,-2.49 279.85,-3.91 275.37,-5.56\"/><polygon fill=\"black\" stroke=\"black\" points=\"273.83,-2.41 265.91,-9.46 276.49,-8.89 273.83,-2.41\"/><text text-anchor=\"middle\" x=\"300.5\" y=\"-5.35\" font-family=\"Times,serif\" font-size=\"14.00\">3m</text></g><!-- n --><g id=\"node5\" class=\"node\"><title>n</title><ellipse fill=\"none\" stroke=\"black\" cx=\"470\" cy=\"-20.55\" rx=\"27\" ry=\"18\"/><text text-anchor=\"middle\" x=\"470\" y=\"-16.85\" font-family=\"Times,serif\" font-size=\"14.00\">n</text></g><!-- ...&#45;&gt;n --><g id=\"edge7\" class=\"edge\"><title>...-&gt;n</title><path fill=\"none\" stroke=\"black\" d=\"M384.02,-20.55C398.53,-20.55 416.83,-20.55 432.72,-20.55\"/><polygon fill=\"black\" stroke=\"black\" points=\"432.75,-24.05 442.75,-20.55 432.75,-17.05 432.75,-24.05\"/><text text-anchor=\"middle\" x=\"413.5\" y=\"-24.35\" font-family=\"Times,serif\" font-size=\"14.00\">l</text></g><!-- n&#45;&gt;... --><g id=\"edge8\" class=\"edge\"><title>n-&gt;...</title><path fill=\"none\" stroke=\"black\" d=\"M448.09,-9.46C440.97,-6.24 432.82,-3.17 425,-1.55 414.99,0.52 412.01,0.52 402,-1.55 399.34,-2.1 396.65,-2.82 393.97,-3.65\"/><polygon fill=\"black\" stroke=\"black\" points=\"392.64,-0.41 384.42,-7.09 395.02,-7 392.64,-0.41\"/><text text-anchor=\"middle\" x=\"413.5\" y=\"-5.35\" font-family=\"Times,serif\" font-size=\"14.00\">nm</text></g></g></svg>"
      ],
      "text/plain": [
       "<IPython.core.display.SVG object>"
      ]
     },
     "execution_count": 73,
     "metadata": {},
     "output_type": "execute_result"
    }
   ],
   "source": [
    "show_graph()"
   ]
  },
  {
   "cell_type": "markdown",
   "metadata": {
    "slideshow": {
     "slide_type": "fragment"
    }
   },
   "source": [
    "Occupancy:\n",
    "\n",
    "- $P(L=0)=\\pi(0)=(\\sum\\limits_{j=0}^{n}\\rho^j/j!)^{-1}$\n",
    "- $P(L=j)=\\pi(0)(\\rho^j/j!)$"
   ]
  },
  {
   "cell_type": "markdown",
   "metadata": {
    "slideshow": {
     "slide_type": "slide"
    }
   },
   "source": [
    "# Networks of queues"
   ]
  },
  {
   "cell_type": "markdown",
   "metadata": {
    "slideshow": {
     "slide_type": "slide"
    }
   },
   "source": [
    "![](dh-flow.svg) "
   ]
  },
  {
   "cell_type": "markdown",
   "metadata": {
    "slideshow": {
     "slide_type": "slide"
    }
   },
   "source": [
    "![](dh-queues.svg)"
   ]
  },
  {
   "cell_type": "code",
   "execution_count": null,
   "metadata": {},
   "outputs": [],
   "source": []
  }
 ],
 "metadata": {
  "celltoolbar": "Slideshow",
  "kernelspec": {
   "display_name": "Python 3",
   "language": "python",
   "name": "python3"
  },
  "language_info": {
   "codemirror_mode": {
    "name": "ipython",
    "version": 3
   },
   "file_extension": ".py",
   "mimetype": "text/x-python",
   "name": "python",
   "nbconvert_exporter": "python",
   "pygments_lexer": "ipython3",
   "version": "3.9.5"
  }
 },
 "nbformat": 4,
 "nbformat_minor": 4
}
